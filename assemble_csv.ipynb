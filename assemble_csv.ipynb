{
  "nbformat": 4,
  "nbformat_minor": 0,
  "metadata": {
    "colab": {
      "name": "assemble_DL_dataset.ipynb",
      "provenance": []
    },
    "kernelspec": {
      "name": "python3",
      "display_name": "Python 3"
    },
    "language_info": {
      "name": "python"
    }
  },
  "cells": [
    {
      "cell_type": "markdown",
      "source": [
        "#Deep Learning Dataset assembling "
      ],
      "metadata": {
        "id": "JFUUdT3GzRvF"
      }
    },
    {
      "cell_type": "markdown",
      "source": [
        "### 1. Setup environment "
      ],
      "metadata": {
        "id": "jqSe1cIss_k7"
      }
    },
    {
      "cell_type": "code",
      "execution_count": 4,
      "metadata": {
        "colab": {
          "base_uri": "https://localhost:8080/"
        },
        "id": "Nzw-JGTby4XX",
        "outputId": "9f4fc0cb-42df-4087-c32a-c53b5be0f1fe"
      },
      "outputs": [
        {
          "output_type": "stream",
          "name": "stdout",
          "text": [
            "Drive already mounted at /content/drive; to attempt to forcibly remount, call drive.mount(\"/content/drive\", force_remount=True).\n"
          ]
        }
      ],
      "source": [
        "# Connect to google drive \n",
        "from google.colab import drive\n",
        "drive.mount('/content/drive')\n"
      ]
    },
    {
      "cell_type": "markdown",
      "source": [
        "### 2. Load data from sources "
      ],
      "metadata": {
        "id": "8jX0bvvgtD-q"
      }
    },
    {
      "cell_type": "code",
      "source": [
        "# read files \n",
        "import json\n",
        "import os \n",
        "\n",
        "# annotation json files \n",
        "with open('/content/drive/MyDrive/Capstone Project Deliverables /JSON_DATA/3_annotation_text_bbox_data/labeled_dataset.json') as f:\n",
        "    anno_json_file = json.load(f)\n",
        "\n",
        "# visual_features \n",
        "vf_base_path = '/content/drive/MyDrive/G33/visual_feature'\n",
        "vf_name_list = os.listdir(vf_base_path)\n",
        "\n",
        "\n"
      ],
      "metadata": {
        "id": "emW8U9W7zQ2k"
      },
      "execution_count": null,
      "outputs": []
    },
    {
      "cell_type": "markdown",
      "source": [
        "### 3. Assemble and save dataset "
      ],
      "metadata": {
        "id": "4AeibzZetJND"
      }
    },
    {
      "cell_type": "code",
      "source": [
        "import pandas as pd \n",
        "text_list = []\n",
        "label_list = []\n",
        "visual_feature_list = [] \n",
        "\n",
        "total_works = len(vf_name_list)\n",
        "progess = 1 \n",
        "\n",
        "for vf_name in vf_name_list:\n",
        "    iter = 0\n",
        "    png_id = vf_name[-6]\n",
        "    pdf_name = vf_name[:-7]\n",
        "    \n",
        "    # get annotated json data \n",
        "    pdf_json_data = anno_json_file[pdf_name + '.pdf']\n",
        "    png_obj_list = pdf_json_data['pages'][str(png_id)]['objects']\n",
        "\n",
        "    # get visual feature \n",
        "    tmp_f = open(vf_base_path + '/' + vf_name, 'r')\n",
        "    vf_list = json.load(tmp_f)\n",
        "    f.close()\n",
        "\n",
        "    vf_id = 0\n",
        "    for obj_id in png_obj_list:\n",
        "        sub_obj_list = png_obj_list[obj_id]['sub_obj']\n",
        "        for sub_obj_id in sub_obj_list:\n",
        "            # extract data for a specific sub bbox \n",
        "            tmp_text = ' '.join(sub_obj_list[sub_obj_id]['text'])\n",
        "            tmp_label = sub_obj_list[sub_obj_id]['label']\n",
        "            tmp_vf = vf_list[vf_id]\n",
        "\n",
        "            # get item into separate list \n",
        "            text_list.append(tmp_text)\n",
        "            label_list.append(tmp_label)\n",
        "            visual_feature_list.append(tmp_vf)\n",
        "            vf_id = vf_id + 1\n",
        "    if (progess%100 == 0 and progess >= 100):\n",
        "        print('main: progress = {}/{} ... '.format(progess, total_works))\n",
        "    progess = progess + 1 \n",
        "\n",
        "data_frame = pd.DataFrame(list(zip(text_list, label_list, visual_feature_list)),columns =['text', 'label', 'visual_feature'])\n",
        "print(data_frame.head(5))\n",
        "data_frame.to_csv('/content/drive/MyDrive/DL_dataset.csv')\n",
        "print('main: success assemble dataset')"
      ],
      "metadata": {
        "colab": {
          "base_uri": "https://localhost:8080/"
        },
        "id": "1mm_MSSfnp_K",
        "outputId": "2248cdd1-b665-4ccf-a255-057d29335973"
      },
      "execution_count": 48,
      "outputs": [
        {
          "output_type": "stream",
          "name": "stdout",
          "text": [
            "main: progress = 100/1115 ... \n",
            "main: progress = 200/1115 ... \n",
            "main: progress = 300/1115 ... \n",
            "main: progress = 400/1115 ... \n",
            "main: progress = 500/1115 ... \n",
            "main: progress = 600/1115 ... \n",
            "main: progress = 700/1115 ... \n",
            "main: progress = 800/1115 ... \n",
            "main: progress = 900/1115 ... \n",
            "main: progress = 1000/1115 ... \n",
            "main: progress = 1100/1115 ... \n",
            "                                                text  label  \\\n",
            "0                                           Form 604   text   \n",
            "1                                           Form 604  title   \n",
            "2                              Corporations Act 2001   text   \n",
            "3                                       Section 671B   text   \n",
            "4  Notice of change of interests of substantial h...  title   \n",
            "\n",
            "                                      visual_feature  \n",
            "0  [0.0, 2.179950714111328, 4.150582790374756, 0....  \n",
            "1  [0.0, 0.39204055070877075, 1.120832085609436, ...  \n",
            "2  [0.0, 0.8985992670059204, 3.4925222396850586, ...  \n",
            "3  [0.0, 2.49971866607666, 3.5431809425354004, 0....  \n",
            "4  [0.0, 0.23461614549160004, 0.00629057595506310...  \n",
            "main: success assemble dataset\n"
          ]
        }
      ]
    }
  ]
}