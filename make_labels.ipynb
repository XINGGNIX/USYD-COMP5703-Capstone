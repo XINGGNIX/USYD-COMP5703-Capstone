{
  "nbformat": 4,
  "nbformat_minor": 0,
  "metadata": {
    "colab": {
      "name": "according_manual_anno_make_label.ipynb",
      "provenance": [],
      "collapsed_sections": []
    },
    "kernelspec": {
      "name": "python3",
      "display_name": "Python 3"
    },
    "language_info": {
      "name": "python"
    }
  },
  "cells": [
    {
      "cell_type": "code",
      "execution_count": null,
      "metadata": {
        "colab": {
          "base_uri": "https://localhost:8080/"
        },
        "id": "0XV9cCiVmOag",
        "outputId": "4cc65e4a-d370-43f2-9482-d0512fcf8cc0"
      },
      "outputs": [
        {
          "output_type": "stream",
          "name": "stdout",
          "text": [
            "Drive already mounted at /content/drive; to attempt to forcibly remount, call drive.mount(\"/content/drive\", force_remount=True).\n"
          ]
        }
      ],
      "source": [
        "from google.colab import drive\n",
        "drive.mount('/content/drive')"
      ]
    },
    {
      "cell_type": "code",
      "source": [
        "pip install xToolkit  -i  http://pypi.douban.com/simple --trusted-host pypi.douban.com"
      ],
      "metadata": {
        "colab": {
          "base_uri": "https://localhost:8080/"
        },
        "id": "SsYzcvFbodWt",
        "outputId": "b3aa964c-a813-40a5-9b54-a38a6d87baa9"
      },
      "execution_count": null,
      "outputs": [
        {
          "output_type": "stream",
          "name": "stdout",
          "text": [
            "Looking in indexes: http://pypi.douban.com/simple\n",
            "Collecting xToolkit\n",
            "  Downloading http://pypi.doubanio.com/packages/9c/04/79a655679e2e07c9e00643c22d2efa6df2da125a98c633e10c24f30d3850/xToolkit-0.0.74.tar.gz (30 kB)\n",
            "Requirement already satisfied: python-dateutil>=2.8.1 in /usr/local/lib/python3.7/dist-packages (from xToolkit) (2.8.2)\n",
            "Requirement already satisfied: jieba>=0.42.1 in /usr/local/lib/python3.7/dist-packages (from xToolkit) (0.42.1)\n",
            "Requirement already satisfied: numpy>=1.19.5 in /usr/local/lib/python3.7/dist-packages (from xToolkit) (1.21.6)\n",
            "Requirement already satisfied: pandas>=1.1.1 in /usr/local/lib/python3.7/dist-packages (from xToolkit) (1.3.5)\n",
            "Collecting emoji>=0.6.0\n",
            "  Downloading http://pypi.doubanio.com/packages/68/8a/b08dd0b946f0843cba782e3784cd979c33f144e5e7c37fb0162dc47acd43/emoji-1.7.0.tar.gz (175 kB)\n",
            "\u001b[K     |████████████████████████████████| 175 kB 448 kB/s \n",
            "\u001b[?25hCollecting xlrd>=1.2.0\n",
            "  Downloading http://pypi.doubanio.com/packages/a6/0c/c2a72d51fe56e08a08acc85d13013558a2d793028ae7385448a6ccdfae64/xlrd-2.0.1-py2.py3-none-any.whl (96 kB)\n",
            "\u001b[K     |████████████████████████████████| 96 kB 41.5 MB/s \n",
            "\u001b[?25hRequirement already satisfied: xlwt>=1.3.0 in /usr/local/lib/python3.7/dist-packages (from xToolkit) (1.3.0)\n",
            "Collecting demjson>=2.2.4\n",
            "  Downloading http://pypi.doubanio.com/packages/96/67/6db789e2533158963d4af689f961b644ddd9200615b8ce92d6cad695c65a/demjson-2.2.4.tar.gz (131 kB)\n",
            "\u001b[K     |████████████████████████████████| 131 kB 51.8 MB/s \n",
            "\u001b[?25hRequirement already satisfied: pytz>=2017.3 in /usr/local/lib/python3.7/dist-packages (from pandas>=1.1.1->xToolkit) (2022.1)\n",
            "Requirement already satisfied: six>=1.5 in /usr/local/lib/python3.7/dist-packages (from python-dateutil>=2.8.1->xToolkit) (1.15.0)\n",
            "Building wheels for collected packages: xToolkit, demjson, emoji\n",
            "  Building wheel for xToolkit (setup.py) ... \u001b[?25l\u001b[?25hdone\n",
            "  Created wheel for xToolkit: filename=xToolkit-0.0.74-py3-none-any.whl size=32822 sha256=4a784c23f10f53d38d7696045d0e046b71dfb61ffbea35c080e8a3902dbc389c\n",
            "  Stored in directory: /root/.cache/pip/wheels/7f/10/26/5ad3ce363e6800801b0b8f97d2ed8bd7c18c4b3423b959133c\n",
            "  Building wheel for demjson (setup.py) ... \u001b[?25l\u001b[?25hdone\n",
            "  Created wheel for demjson: filename=demjson-2.2.4-py3-none-any.whl size=73565 sha256=bbeee7c5bc445eadd0890527e711670e008015de08cd11087926454e3356a8bd\n",
            "  Stored in directory: /root/.cache/pip/wheels/54/40/46/5f298fee7b65d7c2c022b463273f78b571638289d32d7c2b3a\n",
            "  Building wheel for emoji (setup.py) ... \u001b[?25l\u001b[?25hdone\n",
            "  Created wheel for emoji: filename=emoji-1.7.0-py3-none-any.whl size=171046 sha256=45968dcd0cade33e54c547b1caf49299c78ff294f348e4a50c408b3d235e9fee\n",
            "  Stored in directory: /root/.cache/pip/wheels/2b/91/76/0e398642e5fe60e8faa7240e650c6274f1e206670052c080b2\n",
            "Successfully built xToolkit demjson emoji\n",
            "Installing collected packages: xlrd, emoji, demjson, xToolkit\n",
            "  Attempting uninstall: xlrd\n",
            "    Found existing installation: xlrd 1.1.0\n",
            "    Uninstalling xlrd-1.1.0:\n",
            "      Successfully uninstalled xlrd-1.1.0\n",
            "Successfully installed demjson-2.2.4 emoji-1.7.0 xToolkit-0.0.74 xlrd-2.0.1\n"
          ]
        }
      ]
    },
    {
      "cell_type": "code",
      "source": [
        "pip install xlrd"
      ],
      "metadata": {
        "colab": {
          "base_uri": "https://localhost:8080/"
        },
        "id": "PDAX35kvWut6",
        "outputId": "38a40f94-9a2e-412c-c081-1a8ffb7d35f3"
      },
      "execution_count": null,
      "outputs": [
        {
          "output_type": "stream",
          "name": "stdout",
          "text": [
            "Requirement already satisfied: xlrd in /usr/local/lib/python3.7/dist-packages (2.0.1)\n"
          ]
        }
      ]
    },
    {
      "cell_type": "code",
      "source": [
        "import json\n",
        "import os\n",
        "with open('/content/drive/MyDrive/manual_anno.json') as f:\n",
        "  json_all = json.load(f)"
      ],
      "metadata": {
        "id": "uf8zYGLzWVj6"
      },
      "execution_count": null,
      "outputs": []
    },
    {
      "cell_type": "code",
      "source": [
        "import json\n",
        "base_path = \"/content/drive/MyDrive\"\n",
        "def save_json(dict_data):\n",
        "  try:\n",
        "    json_file = open(base_path + '/labeled_dataset.json', \"w\")\n",
        "    json.dump(dict_data, json_file)\n",
        "    print(\"Success saved!\")\n",
        "  except:\n",
        "    print(\"    save_json(): fail save as JSON\")"
      ],
      "metadata": {
        "id": "n2XEq4P0_4yD"
      },
      "execution_count": null,
      "outputs": []
    },
    {
      "cell_type": "code",
      "source": [
        "from xToolkit import xfile\n",
        "title_dict = xfile.read(\"/content/drive/MyDrive/Combined_manual_annotation_title.xls\").excel_to_dict()\n",
        "section_dict = xfile.read(\"/content/drive/MyDrive/Combined_manual_annotation_section.xls\").excel_to_dict(max = 2900)"
      ],
      "metadata": {
        "id": "5MVgwFn6QuvX"
      },
      "execution_count": null,
      "outputs": []
    },
    {
      "cell_type": "code",
      "source": [
        "for i in range(len(title_dict)):\n",
        "  count = 0\n",
        "  for key in title_dict[i]:\n",
        "    if count == 0:\n",
        "      if len(title_dict[i][key]) == 0:\n",
        "        file_info = file_info\n",
        "      else:\n",
        "        file_info = title_dict[i][key]\n",
        "      file_name = file_info.split(\"-\")[0]\n",
        "      \n",
        "      page_id = str(file_info.split(\"-\")[1])\n",
        "    else: \n",
        "      title_id = title_dict[i][key]\n",
        "    count += 1\n",
        "  for object_id in range(len(json_all[file_name + '.pdf']['pages'][page_id]['objects'])):\n",
        "    if object_id == title_id:\n",
        "      object_id = str(object_id)\n",
        "      for sub_object_id in range(len(json_all[file_name + '.pdf']['pages'][page_id]['objects'][object_id]['sub_obj'])):\n",
        "        sub_object_id = str(sub_object_id)\n",
        "        json_all[file_name + '.pdf']['pages'][page_id]['objects'][object_id]['sub_obj'][sub_object_id]['label'] = 'title'\n"
      ],
      "metadata": {
        "id": "tZie7jtL6Ool"
      },
      "execution_count": null,
      "outputs": []
    },
    {
      "cell_type": "code",
      "source": [
        "for i in range(len(section_dict)):\n",
        "  count = 0\n",
        "  for key in section_dict[i]:\n",
        "    if count == 0:\n",
        "      if len(section_dict[i][key]) == 0:\n",
        "        file_info = file_info\n",
        "      else:\n",
        "        file_info = section_dict[i][key]\n",
        "      file_name = file_info.split(\"-\")[0]\n",
        "      \n",
        "      page_id = str(file_info.split(\"-\")[1])\n",
        "    else: \n",
        "      section_id = section_dict[i][key]\n",
        "      \n",
        "    count += 1\n",
        "  for object_id in range(len(json_all[file_name + '.pdf']['pages'][page_id]['objects'])):\n",
        "    if object_id == section_id:\n",
        "      \n",
        "      object_id = str(object_id)\n",
        "      for sub_object_id in range(len(json_all[file_name + '.pdf']['pages'][page_id]['objects'][object_id]['sub_obj'])):\n",
        "        sub_object_id = str(sub_object_id)\n",
        "        json_all[file_name + '.pdf']['pages'][page_id]['objects'][object_id]['sub_obj'][sub_object_id]['label'] = 'section'"
      ],
      "metadata": {
        "id": "W_paSq7WH9D_"
      },
      "execution_count": null,
      "outputs": []
    },
    {
      "cell_type": "code",
      "source": [
        "save_json(json_all)"
      ],
      "metadata": {
        "colab": {
          "base_uri": "https://localhost:8080/"
        },
        "id": "9ijfsy61H8PT",
        "outputId": "13645f8f-435b-4d55-c9e2-75e84dc572f3"
      },
      "execution_count": null,
      "outputs": [
        {
          "output_type": "stream",
          "name": "stdout",
          "text": [
            "Success saved!\n"
          ]
        }
      ]
    }
  ]
}