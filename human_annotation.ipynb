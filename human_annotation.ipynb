{
  "nbformat": 4,
  "nbformat_minor": 0,
  "metadata": {
    "colab": {
      "name": "CS62-1-human_annotation_code.ipynb",
      "private_outputs": true,
      "provenance": [],
      "collapsed_sections": []
    },
    "kernelspec": {
      "name": "python3",
      "display_name": "Python 3"
    },
    "language_info": {
      "name": "python"
    }
  },
  "cells": [
    {
      "cell_type": "code",
      "source": [
        "from PIL import Image, ImageDraw, ImageFont\n",
        "from google.colab import output\n",
        "import json\n",
        "import os\n",
        "from google.colab import drive\n",
        "\n",
        "\n",
        "def kk(i):\n",
        "    next = input('{} Next?'.format(i))\n",
        "    output.clear()\n",
        "\n",
        "\n",
        "base_path = '/content/drive/MyDrive/COMP5703_dataset'\n",
        "\n",
        "drive.mount('/content/drive')\n",
        "with open('/content/drive/MyDrive/tmp.json') as f:\n",
        "  json_anno = json.load(f)\n",
        "\n",
        "reading_list = []\n",
        "for key in json_anno.keys():\n",
        "  if len(json_anno[key]['pages']) <= 3:\n",
        "    reading_list.append(key.strip('.pdf'))\n"
      ],
      "metadata": {
        "id": "dyLCtrDn-OtA"
      },
      "execution_count": null,
      "outputs": []
    },
    {
      "cell_type": "code",
      "source": [
        "i = 85\n",
        "pdf_name = reading_list[i]\n",
        "pages_len = len(json_anno[pdf_name + '.pdf']['pages'])\n",
        "\n",
        "for p in range(pages_len):\n",
        "    path = os.path.join(base_path, pdf_name + '-' + str(p) + '.png')\n",
        "    print(path)\n",
        "    json_dict = json_anno[pdf_name + '.pdf']['pages'][str(p)]['objects']\n",
        "\n",
        "    image = Image.open(path)\n",
        "    image = image.convert(\"RGB\")\n",
        "    draw = ImageDraw.Draw(image, \"RGBA\")\n",
        "    font = ImageFont.load_default()\n",
        "\n",
        "    for obj in json_dict:\n",
        "        annotation = json_dict[obj]\n",
        "        label = obj\n",
        "        x = annotation['lt_obj'][0]\n",
        "        y = annotation['lt_obj'][1]\n",
        "        w = annotation['lt_obj'][2]\n",
        "        h = annotation['lt_obj'][3]\n",
        "        \n",
        "        general_box = [x,y,w,h]\n",
        "        draw.rectangle(general_box,outline='red')\n",
        "        draw.text((annotation['lt_obj'][0]-15 , annotation['lt_obj'][3]), label,fill = 'blue')\n",
        "\n",
        "    display(image)\n",
        "    print(pdf_name + '-' + str(p))\n",
        "    next = input('{} Next?'.format(i))\n",
        "    output.clear()\n",
        "\n",
        "    "
      ],
      "metadata": {
        "id": "QQmUbLAl0lyc"
      },
      "execution_count": null,
      "outputs": []
    }
  ]
}