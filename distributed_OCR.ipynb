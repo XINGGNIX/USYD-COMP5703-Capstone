{
  "nbformat": 4,
  "nbformat_minor": 0,
  "metadata": {
    "colab": {
      "name": "distributed_OCR.ipynb",
      "provenance": [],
      "collapsed_sections": []
    },
    "kernelspec": {
      "name": "python3",
      "display_name": "Python 3"
    },
    "language_info": {
      "name": "python"
    }
  },
  "cells": [
    {
      "cell_type": "markdown",
      "source": [
        "## Distributed OCR "
      ],
      "metadata": {
        "id": "INkYau4-txz9"
      }
    },
    {
      "cell_type": "markdown",
      "source": [
        "### 1. Setup Google vision "
      ],
      "metadata": {
        "id": "lVpUdjZiLJ7K"
      }
    },
    {
      "cell_type": "code",
      "source": [
        "%%capture\n",
        "!pip3 install --upgrade google-cloud-vision\n",
        "!pip install --upgrade google-cloud-vision"
      ],
      "metadata": {
        "id": "IKrBqd-Ft5on"
      },
      "execution_count": 1,
      "outputs": []
    },
    {
      "cell_type": "markdown",
      "source": [
        "### 2. Global variables and helper functions"
      ],
      "metadata": {
        "id": "eazWdQCwLNdO"
      }
    },
    {
      "cell_type": "code",
      "execution_count": 2,
      "metadata": {
        "colab": {
          "base_uri": "https://localhost:8080/"
        },
        "id": "oVzJBwwvtvgq",
        "outputId": "a34d536d-ccf6-49ea-c50e-4a34e1af75a9"
      },
      "outputs": [
        {
          "output_type": "stream",
          "name": "stdout",
          "text": [
            "Drive already mounted at /content/drive; to attempt to forcibly remount, call drive.mount(\"/content/drive\", force_remount=True).\n"
          ]
        }
      ],
      "source": [
        "# connect to drive\n",
        "from google.colab import drive\n",
        "drive.mount('/content/drive')\n",
        "\n",
        "# pip packages \n",
        "from google.colab.patches import cv2_imshow\n",
        "from google.cloud import vision\n",
        "from pathlib import Path\n",
        "import numpy as np\n",
        "import json\n",
        "import cv2\n",
        "import io\n",
        "import os\n",
        "\n",
        "# ---- Read Json files from colab ----\n",
        "def read_json(path):\n",
        "    try:\n",
        "        json_file = open(path, \"rb\")\n",
        "        dict_data = json.load(json_file)\n",
        "    except:\n",
        "        print(\"read_json(): fail read JSON...\")\n",
        "        return False\n",
        "    \n",
        "    return dict_data\n",
        "\n",
        "# ---- Save Json file from colab ----\n",
        "def save_json(dict_data, path):\n",
        "    try:\n",
        "        json_file = open(path, \"w\")\n",
        "        json.dump(dict_data, json_file)\n",
        "    except:\n",
        "        print(\"save_json(): fail save as JSON...\")\n",
        "    \n",
        "    return dict_data\n",
        "\n",
        "def get_pdf_list(data):\n",
        "    pdf_list = []\n",
        "    for pdf_name in data:\n",
        "        pdf_list.append(pdf_name)\n",
        "\n",
        "    return pdf_list\n",
        "\n",
        "\n",
        "\n",
        "# TODO - Modify global variables\n",
        "base_path = \"/content/drive/MyDrive/FUNSD\"\n",
        "OCR_key = \"/OCR_credential/key_1.json\"\n",
        "png_folder = \"/content/drive/MyDrive/COMP5703_dataset\"\n",
        "\n",
        "offset_min = 0\n",
        "offset_max = 1500\n",
        "\n",
        "# Execution\n",
        "target_folder = \"/content/drive/MyDrive/FUNSD/components/origin_data_0.json\"\n",
        "result_storage = \"/content/drive/MyDrive/FUNSD/components/OCR_data_0.json\"\n",
        "data = read_json(target_folder)\n"
      ]
    },
    {
      "cell_type": "code",
      "source": [
        "\n",
        "\n",
        "def OCR_extraction(png_config):\n",
        "    # generate configuration \n",
        "    png_name = png_config['page_name']\n",
        "    png_path = png_folder + '/' + png_name\n",
        "    png_image = cv2.imread(png_path, cv2.IMREAD_UNCHANGED)\n",
        "    png_config_copy = png_config\n",
        "\n",
        "    # crop image for OCR test \n",
        "    for obj_index in png_config['objects']:\n",
        "        sub_obj_list = png_config['objects'][obj_index]['sub_obj']\n",
        "        for sub_obj_item in sub_obj_list:\n",
        "            coord = sub_obj_list[sub_obj_item]['coord']\n",
        "            cropped_image = png_image[coord[3]:coord[1], coord[0]:coord[2]]\n",
        "            cv2.imwrite(base_path + '/' + 'tmp.jpg',cropped_image)\n",
        "            with io.open(base_path + '/' + 'tmp.jpg', 'rb') as image_file:\n",
        "                content = image_file.read()\n",
        "\n",
        "            # OCR \n",
        "            client = vision.ImageAnnotatorClient()\n",
        "            image = vision.Image(content=content)\n",
        "            response = client.text_detection(image = image)\n",
        "            texts = response.text_annotations\n",
        "            total_text = texts[0].description.replace('\\n', '')\n",
        "            png_config_copy['objects'][obj_index]['sub_obj'][sub_obj_item]['text'] = total_text\n",
        "    \n",
        "    return png_config_copy\n",
        "\n",
        "def main(data):\n",
        "    pdf_list = get_pdf_list(data)\n",
        "    total = len(pdf_list)\n",
        "    result_path = base_path + result_storage\n",
        "    os.environ['GOOGLE_APPLICATION_CREDENTIALS'] = base_path + OCR_key\n",
        "\n",
        "    success = 0\n",
        "    fail = 0\n",
        "    result = {}\n",
        "\n",
        "    for pdf_name in pdf_list:\n",
        "        pdf_config = data[pdf_name]['pages']\n",
        "        result[pdf_name] = {}\n",
        "        result[pdf_name] = data[pdf_name]\n",
        "\n",
        "        try: \n",
        "            for png_index in pdf_config:\n",
        "                png_copy = OCR_extraction(pdf_config[png_index])\n",
        "                data[pdf_name]['pages'][png_index] = png_copy\n",
        "            success = success + 1\n",
        "        except:\n",
        "            fail = fail + 1\n",
        "\n",
        "        if ((success + fail) % 100 == 0 and (success + fail) > 100):\n",
        "            print(\"Process = {} success in {}/{} \".format(success, success + fail, total))\n",
        "            save_json(data, result_storage)\n",
        "    \n",
        "    return data\n",
        "    \n",
        "\n",
        "tmp = main(data)\n",
        "save_json(tmp, result_storage)\n"
      ],
      "metadata": {
        "id": "5D8RC_ZuuFbL"
      },
      "execution_count": null,
      "outputs": []
    },
    {
      "cell_type": "code",
      "source": [
        "import cv2\n",
        "\n",
        "\n",
        "# draw all boxes on image \n",
        "def draw_box(json_data, off_set = False, show_upper = True):\n",
        "  for pdf in json_data:\n",
        "    pages = json_data[pdf]['pages']\n",
        "\n",
        "    for page in pages:\n",
        "        objects = pages[page]['objects']\n",
        "        png_name = pages[page]['page_name']\n",
        "        png_image = cv2.imread(png_folder + '/' + png_name, cv2.IMREAD_UNCHANGED)\n",
        "\n",
        "        for upper_index in objects:\n",
        "            upper_box = objects[upper_index]['lt_obj']\n",
        "            sub_box_list = objects[upper_index]['sub_obj']\n",
        "\n",
        "            for sub_index in sub_box_list:\n",
        "                sub_box = sub_box_list[sub_index]['coord']\n",
        "                cv2.rectangle(png_image, (sub_box[0], sub_box[1]), (sub_box[2], sub_box[3]), (0, 255, 0, 255), 1)\n",
        "\n",
        "            if (show_upper == True):\n",
        "                cv2.rectangle(png_image, (upper_box[0], upper_box[1]), (upper_box[2], upper_box[3]), (0, 0, 255, 255), 1)\n",
        "        print(png_name)\n",
        "        cv2_imshow(png_image)\n",
        "\n",
        "  return False\n",
        "\n",
        "\n",
        "draw_box(data, off_set = 1, show_upper = False)"
      ],
      "metadata": {
        "id": "6n9Lsne7LISL"
      },
      "execution_count": null,
      "outputs": []
    }
  ]
}